{
 "cells": [
  {
   "cell_type": "code",
   "execution_count": null,
   "metadata": {},
   "outputs": [],
   "source": [
    "import pandas as pd\n",
    "from datasets import Dataset\n",
    "from sklearn.model_selection import train_test_split\n",
    "\n",
    "# Load your CSV with 'text', 'latitude', 'longitude'\n",
    "df = pd.read_csv(\"full_markup_v2.csv\")[['description', 'lat', 'lng']]\n"
   ]
  },
  {
   "cell_type": "code",
   "execution_count": 2,
   "metadata": {},
   "outputs": [],
   "source": [
    "import pandas as pd\n",
    "\n",
    "# Load your CSV with 'text', 'latitude', 'longitude'\n",
    "test = pd.read_csv(\"test_markup.csv\", index_col=0).reset_index(drop=True)"
   ]
  },
  {
   "cell_type": "code",
   "execution_count": 42,
   "metadata": {},
   "outputs": [],
   "source": [
    "test_dataset = Dataset.from_pandas(test)"
   ]
  },
  {
   "cell_type": "code",
   "execution_count": 16,
   "metadata": {},
   "outputs": [],
   "source": [
    "from transformers import BertTokenizer\n",
    "\n",
    "tokenizer = BertTokenizer.from_pretrained(\"bert-base-uncased\")"
   ]
  },
  {
   "cell_type": "code",
   "execution_count": 43,
   "metadata": {},
   "outputs": [
    {
     "data": {
      "application/vnd.jupyter.widget-view+json": {
       "model_id": "2634cdaba9824002948682f0d4f23a6d",
       "version_major": 2,
       "version_minor": 0
      },
      "text/plain": [
       "Map:   0%|          | 0/1960 [00:00<?, ? examples/s]"
      ]
     },
     "metadata": {},
     "output_type": "display_data"
    }
   ],
   "source": [
    "def tokenize(example):\n",
    "    return tokenizer(example[\"description\"], padding=\"max_length\", truncation=True, max_length=128)\n",
    "\n",
    "test_dataset = test_dataset.map(tokenize, batched=True)\n"
   ]
  },
  {
   "cell_type": "code",
   "execution_count": 44,
   "metadata": {},
   "outputs": [
    {
     "data": {
      "application/vnd.jupyter.widget-view+json": {
       "model_id": "5a4346d5ecb94e0b81db72f075c71cb2",
       "version_major": 2,
       "version_minor": 0
      },
      "text/plain": [
       "Map:   0%|          | 0/1960 [00:00<?, ? examples/s]"
      ]
     },
     "metadata": {},
     "output_type": "display_data"
    }
   ],
   "source": [
    "import torch\n",
    "def add_labels(example):\n",
    "    example[\"labels\"] = torch.tensor([example[\"lat\"], example[\"lng\"]], dtype=torch.float)\n",
    "    return example\n",
    "\n",
    "test_dataset = test_dataset.map(add_labels)\n",
    "test_dataset.set_format(type=\"torch\", columns=[\"input_ids\", \"attention_mask\"])"
   ]
  },
  {
   "cell_type": "code",
   "execution_count": 19,
   "metadata": {},
   "outputs": [],
   "source": [
    "import os\n",
    "\n",
    "os.environ[\"CUDA_VISIBLE_DEVICES\"]=\"0\""
   ]
  },
  {
   "cell_type": "code",
   "execution_count": 26,
   "metadata": {},
   "outputs": [],
   "source": [
    "from transformers import TrainingArguments, Trainer, BertTokenizerFast, DataCollatorWithPadding, BertConfig, BertPreTrainedModel, BertModel\n",
    "import torch\n",
    "from torch import nn\n",
    "\n",
    "class BoundedLatLonRegressor(nn.Module):\n",
    "    def __init__(self, input_dim):\n",
    "        super().__init__()\n",
    "        self.mlp = nn.Sequential(\n",
    "            nn.Linear(input_dim, 256),\n",
    "            nn.ReLU(),\n",
    "            nn.Linear(256, 64),\n",
    "            nn.ReLU(),\n",
    "            nn.Linear(64, 2),\n",
    "            nn.Tanh()  # Output in [-1, 1]\n",
    "        )\n",
    "\n",
    "    def forward(self, x):\n",
    "        latlon = self.mlp(x)\n",
    "        lat = latlon[:, 0] * 90     # [-1, 1] → [-90, 90]\n",
    "        lon = latlon[:, 1] * 180    # [-1, 1] → [-180, 180]\n",
    "        return torch.stack([lat, lon], dim=1)\n",
    "\n",
    "class BertForLatLonCosineLoss(BertPreTrainedModel):\n",
    "    def __init__(self, config):\n",
    "        super().__init__(config)\n",
    "        self.bert = BertModel(config)\n",
    "        self.regressor = BoundedLatLonRegressor(config.hidden_size)\n",
    "        self.init_weights()\n",
    "        for param in self.bert.parameters():\n",
    "                param.requires_grad = True\n",
    "\n",
    "    def latlon_to_xyz(self, latlon):\n",
    "        lat_rad = torch.deg2rad(latlon[:, 0])\n",
    "        lon_rad = torch.deg2rad(latlon[:, 1])\n",
    "        x = torch.cos(lat_rad) * torch.cos(lon_rad)\n",
    "        y = torch.cos(lat_rad) * torch.sin(lon_rad)\n",
    "        z = torch.sin(lat_rad)\n",
    "        return torch.stack([x, y, z], dim=1)\n",
    "\n",
    "    def forward(self, input_ids, attention_mask, labels=None):\n",
    "        outputs = self.bert(input_ids=input_ids, attention_mask=attention_mask)\n",
    "        pooled_output = outputs.pooler_output\n",
    "        latlon_pred = self.regressor(pooled_output)\n",
    "\n",
    "        loss = None\n",
    "        if labels is not None:\n",
    "            pred_xyz = self.latlon_to_xyz(latlon_pred)\n",
    "            true_xyz = self.latlon_to_xyz(labels)\n",
    "            cosine_loss = 1 - (pred_xyz * true_xyz).sum(dim=1)\n",
    "            loss = cosine_loss.mean()\n",
    "\n",
    "        return {\"loss\": loss, \"logits\": latlon_pred}\n",
    "\n",
    "\n",
    "model_path = \"./latlon_model_v4/checkpoint-30955\"\n",
    "config = BertConfig.from_pretrained(model_path)\n",
    "model = BertForLatLonCosineLoss.from_pretrained(model_path, config=config)\n",
    "\n",
    "training_args = TrainingArguments(\n",
    "    output_dir='predicts',\n",
    "    do_eval='no',\n",
    "    remove_unused_columns=False,\n",
    "    per_device_eval_batch_size=512\n",
    ")\n",
    "\n",
    "tokenizer = BertTokenizer.from_pretrained(\"bert-base-uncased\")\n",
    "\n",
    "\n",
    "data_collator = DataCollatorWithPadding(\n",
    "    tokenizer,\n",
    "    padding=\"longest\",\n",
    "    max_length=256,\n",
    "    pad_to_multiple_of=8\n",
    ")\n",
    "\n",
    "trainer = Trainer(\n",
    "    model=model,\n",
    "    args=training_args,\n",
    "    data_collator=data_collator,\n",
    ")"
   ]
  },
  {
   "cell_type": "code",
   "execution_count": 27,
   "metadata": {},
   "outputs": [
    {
     "data": {
      "text/html": [],
      "text/plain": [
       "<IPython.core.display.HTML object>"
      ]
     },
     "metadata": {},
     "output_type": "display_data"
    }
   ],
   "source": [
    "predicts = trainer.predict(test_dataset)"
   ]
  },
  {
   "cell_type": "code",
   "execution_count": 28,
   "metadata": {},
   "outputs": [
    {
     "data": {
      "text/plain": [
       "array([[  37.833477 , -120.98359  ],\n",
       "       [   4.8686676,  -74.883484 ],\n",
       "       [  24.378277 ,  110.39495  ],\n",
       "       ...,\n",
       "       [  44.338493 ,   11.458629 ],\n",
       "       [  35.92471  ,  114.1914   ],\n",
       "       [  20.514193 , -101.00489  ]], shape=(1960, 2), dtype=float32)"
      ]
     },
     "execution_count": 28,
     "metadata": {},
     "output_type": "execute_result"
    }
   ],
   "source": [
    "predicts.predictions"
   ]
  },
  {
   "cell_type": "code",
   "execution_count": 29,
   "metadata": {},
   "outputs": [],
   "source": [
    "test['pred_lat'] = predicts.predictions[:, 0]\n",
    "test['pred_lng'] = predicts.predictions[:, 1]"
   ]
  },
  {
   "cell_type": "code",
   "execution_count": 34,
   "metadata": {},
   "outputs": [],
   "source": [
    "test.to_csv('test_preds.csv')"
   ]
  },
  {
   "cell_type": "code",
   "execution_count": 45,
   "metadata": {},
   "outputs": [],
   "source": [
    "# Load model directly\n",
    "from transformers import AutoTokenizer, AutoModel\n",
    "\n",
    "tokenizer = AutoTokenizer.from_pretrained(\"k4tel/geo-bert-multilingual\")\n",
    "model = AutoModel.from_pretrained(\"k4tel/geo-bert-multilingual\")"
   ]
  },
  {
   "cell_type": "code",
   "execution_count": 46,
   "metadata": {},
   "outputs": [],
   "source": [
    "data_collator = DataCollatorWithPadding(\n",
    "    tokenizer,\n",
    "    padding=\"longest\",\n",
    "    max_length=256,\n",
    "    pad_to_multiple_of=8\n",
    ")\n",
    "\n",
    "trainer = Trainer(\n",
    "    model=model,\n",
    "    args=training_args,\n",
    "    data_collator=data_collator,\n",
    ")"
   ]
  },
  {
   "cell_type": "code",
   "execution_count": 47,
   "metadata": {},
   "outputs": [
    {
     "data": {
      "text/html": [],
      "text/plain": [
       "<IPython.core.display.HTML object>"
      ]
     },
     "metadata": {},
     "output_type": "display_data"
    }
   ],
   "source": [
    "predicts = trainer.predict(test_dataset)"
   ]
  },
  {
   "cell_type": "code",
   "execution_count": 49,
   "metadata": {},
   "outputs": [
    {
     "data": {
      "text/plain": [
       "(array([[[-0.14192955, -0.41838244,  0.11701819, ...,  0.7798312 ,\n",
       "          -0.42147642,  0.43597618],\n",
       "         [-0.15586838, -0.42848715,  0.14434335, ...,  0.77767444,\n",
       "          -0.4396696 ,  0.41985932],\n",
       "         [-0.15230465, -0.42344218,  0.1454553 , ...,  0.7737306 ,\n",
       "          -0.42943978,  0.41905805],\n",
       "         ...,\n",
       "         [-0.14339434, -0.40997997,  0.13614056, ...,  0.7778407 ,\n",
       "          -0.43589255,  0.42625588],\n",
       "         [-0.14309828, -0.4170205 ,  0.1212741 , ...,  0.77945316,\n",
       "          -0.4250329 ,  0.43297344],\n",
       "         [-0.14310706, -0.41786584,  0.12008908, ...,  0.77878135,\n",
       "          -0.4232025 ,  0.43329704]],\n",
       " \n",
       "        [[-0.74678326, -1.0637821 ,  0.93283343, ..., -0.93808246,\n",
       "          -0.20170006, -0.44278747],\n",
       "         [-0.6879488 , -0.97236496,  0.7981638 , ..., -0.7724738 ,\n",
       "          -0.36104044, -0.59423846],\n",
       "         [-0.63795894, -0.9278943 ,  0.8627004 , ..., -0.84266746,\n",
       "          -0.29186046, -0.4959944 ],\n",
       "         ...,\n",
       "         [-0.7379645 , -1.03387   ,  0.9303467 , ..., -0.9347458 ,\n",
       "          -0.20033891, -0.42658916],\n",
       "         [-0.7373631 , -1.0378232 ,  0.92911416, ..., -0.9328915 ,\n",
       "          -0.19816412, -0.42825437],\n",
       "         [-0.7471339 , -1.0601901 ,  0.93386894, ..., -0.93715554,\n",
       "          -0.20090133, -0.44179192]],\n",
       " \n",
       "        [[ 0.31682318,  0.44462717,  1.5399415 , ...,  0.9777783 ,\n",
       "          -0.02823796,  0.05892961],\n",
       "         [ 0.3220596 ,  0.4554348 ,  1.4052685 , ...,  1.084076  ,\n",
       "           0.07739704,  0.00618638],\n",
       "         [ 0.24111417,  0.4915866 ,  1.4847623 , ...,  1.0673574 ,\n",
       "          -0.04563004, -0.00944726],\n",
       "         ...,\n",
       "         [ 0.31402573,  0.45639572,  1.5593809 , ...,  1.0358664 ,\n",
       "          -0.0546347 ,  0.05179195],\n",
       "         [ 0.33138013,  0.46039492,  1.5366805 , ...,  1.0471256 ,\n",
       "          -0.03315103,  0.05994578],\n",
       "         [ 0.3239301 ,  0.44092917,  1.5378181 , ...,  1.0264944 ,\n",
       "          -0.03475171,  0.05241896]],\n",
       " \n",
       "        ...,\n",
       " \n",
       "        [[-0.01149284, -0.27803245,  0.542923  , ...,  1.1722019 ,\n",
       "           0.43121988,  0.37614524],\n",
       "         [-0.02867029, -0.26434746,  0.6296682 , ...,  1.3600138 ,\n",
       "           0.43712363,  0.2597974 ],\n",
       "         [ 0.08458946, -0.21860538,  0.5911802 , ...,  1.442053  ,\n",
       "           0.47624597,  0.35900533],\n",
       "         ...,\n",
       "         [ 0.02270855, -0.25768417,  0.5461721 , ...,  1.2334292 ,\n",
       "           0.4399968 ,  0.3572605 ],\n",
       "         [ 0.04392219, -0.2712287 ,  0.5582368 , ...,  1.254229  ,\n",
       "           0.4548346 ,  0.35294712],\n",
       "         [ 0.00971956, -0.26017052,  0.53422236, ...,  1.2180781 ,\n",
       "           0.43427822,  0.3648481 ]],\n",
       " \n",
       "        [[ 0.4862594 ,  0.85048765,  1.7707788 , ...,  1.2117082 ,\n",
       "          -0.19864   , -0.08296048],\n",
       "         [ 0.48698327,  0.84626913,  1.758464  , ...,  1.2712644 ,\n",
       "          -0.23316325, -0.09519766],\n",
       "         [ 0.49745283,  0.8644869 ,  1.7574306 , ...,  1.2426059 ,\n",
       "          -0.23585962, -0.09104151],\n",
       "         ...,\n",
       "         [ 0.4669111 ,  0.8719804 ,  1.761852  , ...,  1.2337155 ,\n",
       "          -0.21579608, -0.07192962],\n",
       "         [ 0.4685018 ,  0.8658171 ,  1.7544628 , ...,  1.2447674 ,\n",
       "          -0.21766199, -0.06696827],\n",
       "         [ 0.46810067,  0.8673278 ,  1.7587447 , ...,  1.2410247 ,\n",
       "          -0.21614411, -0.0689922 ]],\n",
       " \n",
       "        [[-0.59489024, -0.20275593,  0.09869748, ..., -0.5295581 ,\n",
       "          -0.8173721 , -0.60913813],\n",
       "         [-0.6051162 , -0.24104626,  0.1943963 , ..., -0.49336395,\n",
       "          -0.86206055, -0.6711231 ],\n",
       "         [-0.6346749 , -0.24283095,  0.26359928, ..., -0.48928964,\n",
       "          -0.84319085, -0.6680442 ],\n",
       "         ...,\n",
       "         [-0.57412136, -0.18442146,  0.12824808, ..., -0.48895198,\n",
       "          -0.8132339 , -0.62424785],\n",
       "         [-0.5805754 , -0.19077088,  0.15591678, ..., -0.49490815,\n",
       "          -0.80735564, -0.63061774],\n",
       "         [-0.58118254, -0.17255394,  0.12864625, ..., -0.49843588,\n",
       "          -0.7895285 , -0.6132648 ]]],\n",
       "       shape=(1960, 128, 768), dtype=float32),\n",
       " array([[ 0.9994817 ,  0.99453276,  0.99385005, ...,  0.9999615 ,\n",
       "          0.99947816,  0.99133116],\n",
       "        [ 0.99772674,  0.9998307 ,  0.36684826, ...,  0.99999946,\n",
       "          0.31222147,  0.9338402 ],\n",
       "        [ 0.98391694,  0.99372023,  0.8590898 , ..., -0.9996821 ,\n",
       "          0.99822646,  0.9897851 ],\n",
       "        ...,\n",
       "        [-0.976888  , -0.908886  ,  0.967791  , ...,  0.9999967 ,\n",
       "         -0.9709741 , -0.99096   ],\n",
       "        [ 0.99514294,  0.9619809 ,  0.99812675, ..., -0.9999264 ,\n",
       "          0.99568534,  0.9939206 ],\n",
       "        [ 0.9892932 ,  0.9997006 ,  0.9987514 , ...,  0.9999998 ,\n",
       "          0.7504353 ,  0.927102  ]], shape=(1960, 768), dtype=float32))"
      ]
     },
     "execution_count": 49,
     "metadata": {},
     "output_type": "execute_result"
    }
   ],
   "source": [
    "predicts.predictions"
   ]
  },
  {
   "cell_type": "code",
   "execution_count": 48,
   "metadata": {},
   "outputs": [
    {
     "ename": "TypeError",
     "evalue": "tuple indices must be integers or slices, not tuple",
     "output_type": "error",
     "traceback": [
      "\u001b[31m---------------------------------------------------------------------------\u001b[39m",
      "\u001b[31mTypeError\u001b[39m                                 Traceback (most recent call last)",
      "\u001b[36mCell\u001b[39m\u001b[36m \u001b[39m\u001b[32mIn[48]\u001b[39m\u001b[32m, line 1\u001b[39m\n\u001b[32m----> \u001b[39m\u001b[32m1\u001b[39m test[\u001b[33m'\u001b[39m\u001b[33mpred_lat_k4tl\u001b[39m\u001b[33m'\u001b[39m] = \u001b[43mpredicts\u001b[49m\u001b[43m.\u001b[49m\u001b[43mpredictions\u001b[49m\u001b[43m[\u001b[49m\u001b[43m:\u001b[49m\u001b[43m,\u001b[49m\u001b[43m \u001b[49m\u001b[32;43m0\u001b[39;49m\u001b[43m]\u001b[49m\n\u001b[32m      2\u001b[39m test[\u001b[33m'\u001b[39m\u001b[33mpred_lng_k4tl\u001b[39m\u001b[33m'\u001b[39m] = predicts.predictions[:, \u001b[32m1\u001b[39m]\n",
      "\u001b[31mTypeError\u001b[39m: tuple indices must be integers or slices, not tuple"
     ]
    }
   ],
   "source": [
    "test['pred_lat_k4tl'] = predicts.predictions[:, 0]\n",
    "test['pred_lng_k4tl'] = predicts.predictions[:, 1]"
   ]
  },
  {
   "cell_type": "code",
   "execution_count": 5,
   "metadata": {},
   "outputs": [],
   "source": [
    "# Importing the geodesic module from the library\n",
    "from geopy.distance import geodesic\n",
    "import pandas as pd\n",
    "\n",
    "our_preds = pd.read_csv('test_preds.csv')\n",
    "their_preds = pd.read_csv('test_k4tel_preds.csv')\n",
    "gpt_preds = pd.read_csv('gpt41nano_test.csv')\n",
    "test = pd.read_csv('test_markup.csv')"
   ]
  },
  {
   "cell_type": "code",
   "execution_count": 6,
   "metadata": {},
   "outputs": [],
   "source": [
    "our_lat = our_preds['pred_lat']\n",
    "our_lng = our_preds['pred_lng']\n",
    "\n",
    "their_lat = their_preds['pred_lat']\n",
    "their_lng = their_preds['pred_lng']\n",
    "\n",
    "gpt_lat = gpt_preds['ans_lat']\n",
    "gpt_lng = gpt_preds['ans_log']"
   ]
  },
  {
   "cell_type": "code",
   "execution_count": 7,
   "metadata": {},
   "outputs": [],
   "source": [
    "our_dists = []\n",
    "their_dists = []\n",
    "gpt_dists = []\n",
    "\n",
    "for i in range(len(test)):\n",
    "    our_dists.append(geodesic((our_lat[i], our_lng[i]), (test.loc[i, 'lat'], test.loc[i, 'lng'])))\n",
    "    their_dists.append(geodesic((their_lat[i], their_lng[i]), (test.loc[i, 'lat'], test.loc[i, 'lng'])))\n",
    "    gpt_dists.append(geodesic((gpt_lat[i], gpt_lng[i]), (test.loc[i, 'lat'], test.loc[i, 'lng'])))"
   ]
  },
  {
   "cell_type": "code",
   "execution_count": 8,
   "metadata": {},
   "outputs": [
    {
     "data": {
      "text/plain": [
       "(Distance(342.7871302851296),\n",
       " Distance(474.16477008829736),\n",
       " Distance(284.9515490008634))"
      ]
     },
     "execution_count": 8,
     "metadata": {},
     "output_type": "execute_result"
    }
   ],
   "source": [
    "import numpy as np\n",
    "np.median(our_dists), np.median(their_dists), np.median(gpt_dists)"
   ]
  },
  {
   "cell_type": "code",
   "execution_count": 9,
   "metadata": {},
   "outputs": [
    {
     "data": {
      "text/plain": [
       "(Distance(1150.3924263127833),\n",
       " Distance(2129.9926089978476),\n",
       " Distance(1201.5600113365979))"
      ]
     },
     "execution_count": 9,
     "metadata": {},
     "output_type": "execute_result"
    }
   ],
   "source": [
    "np.mean(our_dists), np.mean(their_dists), np.mean(gpt_dists)"
   ]
  }
 ],
 "metadata": {
  "kernelspec": {
   "display_name": "geo1",
   "language": "python",
   "name": "python3"
  },
  "language_info": {
   "codemirror_mode": {
    "name": "ipython",
    "version": 3
   },
   "file_extension": ".py",
   "mimetype": "text/x-python",
   "name": "python",
   "nbconvert_exporter": "python",
   "pygments_lexer": "ipython3",
   "version": "3.9.23"
  }
 },
 "nbformat": 4,
 "nbformat_minor": 2
}
