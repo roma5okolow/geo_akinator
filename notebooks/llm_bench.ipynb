{
 "cells": [
  {
   "cell_type": "code",
   "execution_count": 1,
   "id": "fd0f902e",
   "metadata": {},
   "outputs": [],
   "source": [
    "import openai\n",
    "import pandas as pd\n",
    "from tqdm import tqdm\n",
    "from pulemet import Pulemet\n",
    "import asyncio\n",
    "import json"
   ]
  },
  {
   "cell_type": "code",
   "execution_count": 2,
   "id": "80a07732",
   "metadata": {},
   "outputs": [],
   "source": [
    "%load_ext autoreload\n",
    "%autoreload 2"
   ]
  },
  {
   "cell_type": "code",
   "execution_count": 3,
   "id": "60c5a3cf",
   "metadata": {},
   "outputs": [],
   "source": [
    "import nest_asyncio\n",
    "nest_asyncio.apply()"
   ]
  },
  {
   "cell_type": "code",
   "execution_count": 4,
   "id": "4bb3a52d",
   "metadata": {},
   "outputs": [
    {
     "name": "stderr",
     "output_type": "stream",
     "text": [
      "Total: 0it [00:00, ?it/s]\n",
      "\u001b[A"
     ]
    }
   ],
   "source": [
    "client = openai.AsyncOpenAI(\n",
    "    base_url=\"https://api.llm7.io/v1\",\n",
    "    api_key=\"unused\"\n",
    ")\n",
    "pulemet = Pulemet(rps = 1.5, pbar=tqdm)"
   ]
  },
  {
   "cell_type": "code",
   "execution_count": 5,
   "id": "244ce097",
   "metadata": {},
   "outputs": [
    {
     "data": {
      "text/html": [
       "<div>\n",
       "<style scoped>\n",
       "    .dataframe tbody tr th:only-of-type {\n",
       "        vertical-align: middle;\n",
       "    }\n",
       "\n",
       "    .dataframe tbody tr th {\n",
       "        vertical-align: top;\n",
       "    }\n",
       "\n",
       "    .dataframe thead th {\n",
       "        text-align: right;\n",
       "    }\n",
       "</style>\n",
       "<table border=\"1\" class=\"dataframe\">\n",
       "  <thead>\n",
       "    <tr style=\"text-align: right;\">\n",
       "      <th></th>\n",
       "      <th>Unnamed: 0</th>\n",
       "      <th>city</th>\n",
       "      <th>city_ascii</th>\n",
       "      <th>lat</th>\n",
       "      <th>lng</th>\n",
       "      <th>country</th>\n",
       "      <th>iso2</th>\n",
       "      <th>iso3</th>\n",
       "      <th>admin_name</th>\n",
       "      <th>capital</th>\n",
       "      <th>population</th>\n",
       "      <th>id</th>\n",
       "      <th>description</th>\n",
       "    </tr>\n",
       "  </thead>\n",
       "  <tbody>\n",
       "    <tr>\n",
       "      <th>0</th>\n",
       "      <td>9027</td>\n",
       "      <td>Brentwood</td>\n",
       "      <td>Brentwood</td>\n",
       "      <td>37.9356</td>\n",
       "      <td>-121.7190</td>\n",
       "      <td>United States</td>\n",
       "      <td>US</td>\n",
       "      <td>USA</td>\n",
       "      <td>California</td>\n",
       "      <td>NaN</td>\n",
       "      <td>64609.0</td>\n",
       "      <td>1840018904</td>\n",
       "      <td>A suburban area known for its affluent lifesty...</td>\n",
       "    </tr>\n",
       "    <tr>\n",
       "      <th>1</th>\n",
       "      <td>15237</td>\n",
       "      <td>Guacarí</td>\n",
       "      <td>Guacari</td>\n",
       "      <td>3.7667</td>\n",
       "      <td>-76.3333</td>\n",
       "      <td>Colombia</td>\n",
       "      <td>CO</td>\n",
       "      <td>COL</td>\n",
       "      <td>Valle del Cauca</td>\n",
       "      <td>minor</td>\n",
       "      <td>35513.0</td>\n",
       "      <td>1170383272</td>\n",
       "      <td>Nestled in the lush Colombian Andes, this smal...</td>\n",
       "    </tr>\n",
       "    <tr>\n",
       "      <th>2</th>\n",
       "      <td>3961</td>\n",
       "      <td>Zhanlicun</td>\n",
       "      <td>Zhanlicun</td>\n",
       "      <td>23.2881</td>\n",
       "      <td>116.2594</td>\n",
       "      <td>China</td>\n",
       "      <td>CN</td>\n",
       "      <td>CHN</td>\n",
       "      <td>Guangdong</td>\n",
       "      <td>NaN</td>\n",
       "      <td>161439.0</td>\n",
       "      <td>1156184947</td>\n",
       "      <td>Located in southern China, this village is kno...</td>\n",
       "    </tr>\n",
       "    <tr>\n",
       "      <th>3</th>\n",
       "      <td>7113</td>\n",
       "      <td>Arujá</td>\n",
       "      <td>Aruja</td>\n",
       "      <td>-23.3967</td>\n",
       "      <td>-46.3211</td>\n",
       "      <td>Brazil</td>\n",
       "      <td>BR</td>\n",
       "      <td>BRA</td>\n",
       "      <td>São Paulo</td>\n",
       "      <td>minor</td>\n",
       "      <td>83939.0</td>\n",
       "      <td>1076436872</td>\n",
       "      <td>Situated in southeastern Brazil, this city is ...</td>\n",
       "    </tr>\n",
       "    <tr>\n",
       "      <th>4</th>\n",
       "      <td>7937</td>\n",
       "      <td>Novotroitsk</td>\n",
       "      <td>Novotroitsk</td>\n",
       "      <td>51.2039</td>\n",
       "      <td>58.3114</td>\n",
       "      <td>Russia</td>\n",
       "      <td>RU</td>\n",
       "      <td>RUS</td>\n",
       "      <td>Orenburgskaya Oblast’</td>\n",
       "      <td>minor</td>\n",
       "      <td>74469.0</td>\n",
       "      <td>1643186193</td>\n",
       "      <td>In the heart of Russia, this city is an import...</td>\n",
       "    </tr>\n",
       "  </tbody>\n",
       "</table>\n",
       "</div>"
      ],
      "text/plain": [
       "   Unnamed: 0         city   city_ascii      lat       lng        country  \\\n",
       "0        9027    Brentwood    Brentwood  37.9356 -121.7190  United States   \n",
       "1       15237      Guacarí      Guacari   3.7667  -76.3333       Colombia   \n",
       "2        3961    Zhanlicun    Zhanlicun  23.2881  116.2594          China   \n",
       "3        7113        Arujá        Aruja -23.3967  -46.3211         Brazil   \n",
       "4        7937  Novotroitsk  Novotroitsk  51.2039   58.3114         Russia   \n",
       "\n",
       "  iso2 iso3             admin_name capital  population          id  \\\n",
       "0   US  USA             California     NaN     64609.0  1840018904   \n",
       "1   CO  COL        Valle del Cauca   minor     35513.0  1170383272   \n",
       "2   CN  CHN              Guangdong     NaN    161439.0  1156184947   \n",
       "3   BR  BRA              São Paulo   minor     83939.0  1076436872   \n",
       "4   RU  RUS  Orenburgskaya Oblast’   minor     74469.0  1643186193   \n",
       "\n",
       "                                         description  \n",
       "0  A suburban area known for its affluent lifesty...  \n",
       "1  Nestled in the lush Colombian Andes, this smal...  \n",
       "2  Located in southern China, this village is kno...  \n",
       "3  Situated in southeastern Brazil, this city is ...  \n",
       "4  In the heart of Russia, this city is an import...  "
      ]
     },
     "execution_count": 5,
     "metadata": {},
     "output_type": "execute_result"
    }
   ],
   "source": [
    "df = pd.read_csv('data/test_markup.csv')\n",
    "df.head(5)"
   ]
  },
  {
   "cell_type": "code",
   "execution_count": 6,
   "id": "53fa8fef",
   "metadata": {},
   "outputs": [],
   "source": [
    "async def test_llm(client, description, model = \"gpt-4.1-nano-2025-04-14\"):\n",
    "    try:\n",
    "        response = await client.chat.completions.create(\n",
    "            model=model,\n",
    "            messages=[\n",
    "                {\"role\": \"system\", \"content\": 'Try to guess coordinates of city in description. \\\n",
    "                    For each city return your response in the following JSON format: {\"lat\": \"latitude answer\", \"log\": \"longitude answer\"}' },\n",
    "                {\"role\": \"user\", \"content\": f\"Description: {description}\"}\n",
    "            ]\n",
    "        )\n",
    "        return response.choices[0].message.content\n",
    "    except Exception as e:\n",
    "        return f\"Ошибка: {str(e)}\""
   ]
  },
  {
   "cell_type": "code",
   "execution_count": 7,
   "id": "cc40abc1",
   "metadata": {},
   "outputs": [
    {
     "name": "stderr",
     "output_type": "stream",
     "text": [
      "Total: 100%|██████████| 1960/1960 [21:52<00:00,  1.50it/s]"
     ]
    }
   ],
   "source": [
    "tasks = pulemet.process([test_llm(client, i['description']) for i in df.iloc])\n",
    "responses = await asyncio.gather(*tasks, return_exceptions=True)"
   ]
  },
  {
   "cell_type": "code",
   "execution_count": 10,
   "id": "9a8967a2",
   "metadata": {},
   "outputs": [
    {
     "name": "stdout",
     "output_type": "stream",
     "text": [
      "404 {\"lat\": \"-3.119,\" \"log\": \"-52.125\"}\n",
      "1896 Ошибка: 'NoneType' object is not subscriptable\n"
     ]
    }
   ],
   "source": [
    "answers = []\n",
    "failed = []\n",
    "for i, ans in enumerate(responses):\n",
    "    try:\n",
    "        answers.append(json.loads(ans))\n",
    "    except:\n",
    "        failed.append(i)\n",
    "        print(i, ans)"
   ]
  },
  {
   "cell_type": "code",
   "execution_count": 17,
   "id": "10522c91",
   "metadata": {},
   "outputs": [
    {
     "name": "stderr",
     "output_type": "stream",
     "text": [
      "Total: 100%|█████████▉| 1961/1962 [27:31<01:42, 102.23s/it]"
     ]
    }
   ],
   "source": [
    "tasks = pulemet.process([test_llm(client, i['description']) for i in df.iloc[failed].iloc])\n",
    "responses_fix = await asyncio.gather(*tasks, return_exceptions=True)"
   ]
  },
  {
   "cell_type": "code",
   "execution_count": 18,
   "id": "d802d699",
   "metadata": {},
   "outputs": [
    {
     "data": {
      "text/plain": [
       "['{\"lat\": \"-3.119,\" \"log\": \"-52.125\"}',\n",
       " '{\"lat\": \"-20.6934\", \"log\": \"-52.4384\"}']"
      ]
     },
     "execution_count": 18,
     "metadata": {},
     "output_type": "execute_result"
    }
   ],
   "source": [
    "responses_fix"
   ]
  },
  {
   "cell_type": "code",
   "execution_count": 23,
   "id": "dfa69a05",
   "metadata": {},
   "outputs": [
    {
     "data": {
      "text/html": [
       "<div>\n",
       "<style scoped>\n",
       "    .dataframe tbody tr th:only-of-type {\n",
       "        vertical-align: middle;\n",
       "    }\n",
       "\n",
       "    .dataframe tbody tr th {\n",
       "        vertical-align: top;\n",
       "    }\n",
       "\n",
       "    .dataframe thead th {\n",
       "        text-align: right;\n",
       "    }\n",
       "</style>\n",
       "<table border=\"1\" class=\"dataframe\">\n",
       "  <thead>\n",
       "    <tr style=\"text-align: right;\">\n",
       "      <th></th>\n",
       "      <th>Unnamed: 0</th>\n",
       "      <th>city</th>\n",
       "      <th>city_ascii</th>\n",
       "      <th>lat</th>\n",
       "      <th>lng</th>\n",
       "      <th>country</th>\n",
       "      <th>iso2</th>\n",
       "      <th>iso3</th>\n",
       "      <th>admin_name</th>\n",
       "      <th>capital</th>\n",
       "      <th>population</th>\n",
       "      <th>id</th>\n",
       "      <th>description</th>\n",
       "      <th>ans_lat</th>\n",
       "      <th>ans_log</th>\n",
       "    </tr>\n",
       "  </thead>\n",
       "  <tbody>\n",
       "    <tr>\n",
       "      <th>0</th>\n",
       "      <td>9027</td>\n",
       "      <td>Brentwood</td>\n",
       "      <td>Brentwood</td>\n",
       "      <td>37.9356</td>\n",
       "      <td>-121.7190</td>\n",
       "      <td>United States</td>\n",
       "      <td>US</td>\n",
       "      <td>USA</td>\n",
       "      <td>California</td>\n",
       "      <td>NaN</td>\n",
       "      <td>64609.0</td>\n",
       "      <td>1840018904</td>\n",
       "      <td>A suburban area known for its affluent lifesty...</td>\n",
       "      <td>37.4456</td>\n",
       "      <td>-122.1607</td>\n",
       "    </tr>\n",
       "    <tr>\n",
       "      <th>1</th>\n",
       "      <td>15237</td>\n",
       "      <td>Guacarí</td>\n",
       "      <td>Guacari</td>\n",
       "      <td>3.7667</td>\n",
       "      <td>-76.3333</td>\n",
       "      <td>Colombia</td>\n",
       "      <td>CO</td>\n",
       "      <td>COL</td>\n",
       "      <td>Valle del Cauca</td>\n",
       "      <td>minor</td>\n",
       "      <td>35513.0</td>\n",
       "      <td>1170383272</td>\n",
       "      <td>Nestled in the lush Colombian Andes, this smal...</td>\n",
       "      <td>4.7128</td>\n",
       "      <td>-75.0131</td>\n",
       "    </tr>\n",
       "    <tr>\n",
       "      <th>2</th>\n",
       "      <td>3961</td>\n",
       "      <td>Zhanlicun</td>\n",
       "      <td>Zhanlicun</td>\n",
       "      <td>23.2881</td>\n",
       "      <td>116.2594</td>\n",
       "      <td>China</td>\n",
       "      <td>CN</td>\n",
       "      <td>CHN</td>\n",
       "      <td>Guangdong</td>\n",
       "      <td>NaN</td>\n",
       "      <td>161439.0</td>\n",
       "      <td>1156184947</td>\n",
       "      <td>Located in southern China, this village is kno...</td>\n",
       "      <td>23.1167</td>\n",
       "      <td>113.2460</td>\n",
       "    </tr>\n",
       "    <tr>\n",
       "      <th>3</th>\n",
       "      <td>7113</td>\n",
       "      <td>Arujá</td>\n",
       "      <td>Aruja</td>\n",
       "      <td>-23.3967</td>\n",
       "      <td>-46.3211</td>\n",
       "      <td>Brazil</td>\n",
       "      <td>BR</td>\n",
       "      <td>BRA</td>\n",
       "      <td>São Paulo</td>\n",
       "      <td>minor</td>\n",
       "      <td>83939.0</td>\n",
       "      <td>1076436872</td>\n",
       "      <td>Situated in southeastern Brazil, this city is ...</td>\n",
       "      <td>-23.0094</td>\n",
       "      <td>-47.8824</td>\n",
       "    </tr>\n",
       "    <tr>\n",
       "      <th>4</th>\n",
       "      <td>7937</td>\n",
       "      <td>Novotroitsk</td>\n",
       "      <td>Novotroitsk</td>\n",
       "      <td>51.2039</td>\n",
       "      <td>58.3114</td>\n",
       "      <td>Russia</td>\n",
       "      <td>RU</td>\n",
       "      <td>RUS</td>\n",
       "      <td>Orenburgskaya Oblast’</td>\n",
       "      <td>minor</td>\n",
       "      <td>74469.0</td>\n",
       "      <td>1643186193</td>\n",
       "      <td>In the heart of Russia, this city is an import...</td>\n",
       "      <td>56.85</td>\n",
       "      <td>60.61</td>\n",
       "    </tr>\n",
       "  </tbody>\n",
       "</table>\n",
       "</div>"
      ],
      "text/plain": [
       "   Unnamed: 0         city   city_ascii      lat       lng        country  \\\n",
       "0        9027    Brentwood    Brentwood  37.9356 -121.7190  United States   \n",
       "1       15237      Guacarí      Guacari   3.7667  -76.3333       Colombia   \n",
       "2        3961    Zhanlicun    Zhanlicun  23.2881  116.2594          China   \n",
       "3        7113        Arujá        Aruja -23.3967  -46.3211         Brazil   \n",
       "4        7937  Novotroitsk  Novotroitsk  51.2039   58.3114         Russia   \n",
       "\n",
       "  iso2 iso3             admin_name capital  population          id  \\\n",
       "0   US  USA             California     NaN     64609.0  1840018904   \n",
       "1   CO  COL        Valle del Cauca   minor     35513.0  1170383272   \n",
       "2   CN  CHN              Guangdong     NaN    161439.0  1156184947   \n",
       "3   BR  BRA              São Paulo   minor     83939.0  1076436872   \n",
       "4   RU  RUS  Orenburgskaya Oblast’   minor     74469.0  1643186193   \n",
       "\n",
       "                                         description   ans_lat    ans_log  \n",
       "0  A suburban area known for its affluent lifesty...   37.4456  -122.1607  \n",
       "1  Nestled in the lush Colombian Andes, this smal...    4.7128   -75.0131  \n",
       "2  Located in southern China, this village is kno...   23.1167   113.2460  \n",
       "3  Situated in southeastern Brazil, this city is ...  -23.0094   -47.8824  \n",
       "4  In the heart of Russia, this city is an import...     56.85      60.61  "
      ]
     },
     "execution_count": 23,
     "metadata": {},
     "output_type": "execute_result"
    }
   ],
   "source": [
    "answers_fix = []\n",
    "for i, ans in enumerate(responses):\n",
    "    if i == 404:\n",
    "        answers_fix.append(json.loads('{\"lat\": \"-3.119\", \"log\": \"-52.125\"}'))\n",
    "    elif i == 1896 :\n",
    "        answers_fix.append(json.loads('{\"lat\": \"-20.6934\", \"log\": \"-52.4384\"}'))\n",
    "    else:\n",
    "        answers_fix.append(json.loads(ans))\n",
    "df['ans_lat'] = [i['lat'] for i in answers_fix]\n",
    "df['ans_log'] = [i['log'] for i in answers_fix]\n",
    "df.head()"
   ]
  },
  {
   "cell_type": "code",
   "execution_count": 22,
   "id": "99e20438",
   "metadata": {},
   "outputs": [],
   "source": [
    "df.to_csv('data/gpt41nano_test.csv', index=False)"
   ]
  }
 ],
 "metadata": {
  "kernelspec": {
   "display_name": ".venv",
   "language": "python",
   "name": "python3"
  },
  "language_info": {
   "codemirror_mode": {
    "name": "ipython",
    "version": 3
   },
   "file_extension": ".py",
   "mimetype": "text/x-python",
   "name": "python",
   "nbconvert_exporter": "python",
   "pygments_lexer": "ipython3",
   "version": "3.10.12"
  }
 },
 "nbformat": 4,
 "nbformat_minor": 5
}
